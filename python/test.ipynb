{
 "cells": [
  {
   "cell_type": "code",
   "execution_count": 1,
   "metadata": {},
   "outputs": [],
   "source": [
    "import sys\n",
    "sys.path.append('../build/python/')\n",
    "import TDDpy as TDD\n",
    "import time"
   ]
  },
  {
   "cell_type": "code",
   "execution_count": 2,
   "metadata": {},
   "outputs": [],
   "source": [
    "import numpy as np"
   ]
  },
  {
   "cell_type": "code",
   "execution_count": 3,
   "metadata": {},
   "outputs": [
    {
     "data": {
      "text/plain": [
       "complex number: 1.000000+1.000000"
      ]
     },
     "execution_count": 3,
     "metadata": {},
     "output_type": "execute_result"
    }
   ],
   "source": [
    "a = TDD.ComplexValue(1,1)\n",
    "a"
   ]
  },
  {
   "cell_type": "code",
   "execution_count": 4,
   "metadata": {},
   "outputs": [
    {
     "data": {
      "text/plain": [
       "Index key: x0 Index idx:0"
      ]
     },
     "execution_count": 4,
     "metadata": {},
     "output_type": "execute_result"
    }
   ],
   "source": [
    "TDD.Index(\"x0\",0)"
   ]
  },
  {
   "cell_type": "code",
   "execution_count": 5,
   "metadata": {},
   "outputs": [],
   "source": [
    "data = np.array([1+2j])"
   ]
  },
  {
   "cell_type": "code",
   "execution_count": 6,
   "metadata": {},
   "outputs": [],
   "source": [
    "ts1 = TDD.Tensor(data,[TDD.Index(\"x0\",0)],\"x1\")"
   ]
  },
  {
   "cell_type": "code",
   "execution_count": 7,
   "metadata": {},
   "outputs": [
    {
     "data": {
      "text/plain": [
       "'a tensor network with 1 tensors'"
      ]
     },
     "execution_count": 7,
     "metadata": {},
     "output_type": "execute_result"
    }
   ],
   "source": [
    "tn = TDD.Tn([ts1])\n",
    "tn.infor()"
   ]
  },
  {
   "cell_type": "code",
   "execution_count": 8,
   "metadata": {},
   "outputs": [
    {
     "data": {
      "text/plain": [
       "'a tensor network with 2 tensors'"
      ]
     },
     "execution_count": 8,
     "metadata": {},
     "output_type": "execute_result"
    }
   ],
   "source": [
    "tn.add(ts1)\n",
    "tn.infor()"
   ]
  },
  {
   "cell_type": "code",
   "execution_count": 9,
   "metadata": {},
   "outputs": [
    {
     "data": {
      "text/plain": [
       "'a tensor network with 0 tensors'"
      ]
     },
     "execution_count": 9,
     "metadata": {},
     "output_type": "execute_result"
    }
   ],
   "source": [
    "tn = TDD.Tn([])\n",
    "tn.infor()"
   ]
  },
  {
   "cell_type": "code",
   "execution_count": 10,
   "metadata": {},
   "outputs": [
    {
     "name": "stdout",
     "output_type": "stream",
     "text": [
      "{}\n"
     ]
    },
    {
     "data": {
      "text/plain": [
       "TDDpy.ddpackage"
      ]
     },
     "execution_count": 10,
     "metadata": {},
     "output_type": "execute_result"
    }
   ],
   "source": [
    "dd = TDD.init(10)\n",
    "print(dd.order)\n",
    "dd.order = {\"x0\":0,\"y0\":1,\"x1\":2,\"y2\":3}\n",
    "type(dd)"
   ]
  },
  {
   "cell_type": "code",
   "execution_count": 11,
   "metadata": {},
   "outputs": [],
   "source": [
    "cx = np.array([\n",
    "        [[[1, 0], [0, 1]], [[0, 0], [0, 0]]], \n",
    "        [[[0, 0], [0, 0]], [[0, 1], [1, 0]]]\n",
    "    ],dtype=complex)\n",
    "ts1 = TDD.Tensor(cx,[TDD.Index(\"x0\",0),TDD.Index(\"y0\",1),TDD.Index(\"x1\",2),TDD.Index(\"y2\",3)],\"cx\")"
   ]
  },
  {
   "cell_type": "code",
   "execution_count": 12,
   "metadata": {},
   "outputs": [],
   "source": [
    "# temp = ts1.to_tdd(dd)"
   ]
  },
  {
   "cell_type": "code",
   "execution_count": 13,
   "metadata": {},
   "outputs": [],
   "source": [
    "tdd1 = ts1.to_tdd(dd,True)"
   ]
  },
  {
   "cell_type": "code",
   "execution_count": 14,
   "metadata": {},
   "outputs": [],
   "source": [
    "cx = np.array([\n",
    "        [1,0,0,0],\n",
    "        [0,1,0,0],\n",
    "        [0,0,0,1],\n",
    "        [0,0,1,0]\n",
    "    ],dtype=complex)\n",
    "ts2 = TDD.Tensor(cx,[TDD.Index(\"x0\",0),TDD.Index(\"y0\",1)],\"cnot\")"
   ]
  },
  {
   "cell_type": "code",
   "execution_count": 15,
   "metadata": {},
   "outputs": [
    {
     "name": "stderr",
     "output_type": "stream",
     "text": [
      "Warning: node 575332, port 3 unrecognized\n",
      "Warning: node 575332, port 2 unrecognized\n",
      "Warning: node 575312, port 2 unrecognized\n",
      "Warning: node 575292, port 3 unrecognized\n"
     ]
    }
   ],
   "source": [
    "tdd2 = ts2.to_tdd(dd,True)"
   ]
  },
  {
   "cell_type": "code",
   "execution_count": 16,
   "metadata": {},
   "outputs": [
    {
     "data": {
      "text/plain": [
       "<TDDpy.tdd at 0x7f3d01359d30>"
      ]
     },
     "execution_count": 16,
     "metadata": {},
     "output_type": "execute_result"
    }
   ],
   "source": [
    "dd.cont(tdd1,tdd2)"
   ]
  },
  {
   "cell_type": "code",
   "execution_count": 17,
   "metadata": {},
   "outputs": [
    {
     "data": {
      "text/plain": [
       "ddpack order: x0: 0; x1: 2; y0: 1; y2: 3; "
      ]
     },
     "execution_count": 17,
     "metadata": {},
     "output_type": "execute_result"
    }
   ],
   "source": [
    "dd"
   ]
  },
  {
   "cell_type": "code",
   "execution_count": 18,
   "metadata": {},
   "outputs": [
    {
     "name": "stdout",
     "output_type": "stream",
     "text": [
      "{'x0': 0, 'x1': 2, 'y0': 1, 'y2': 3}\n"
     ]
    }
   ],
   "source": [
    "dd = TDD.init(10)\n",
    "dd.order = {\"x0\":0,\"y0\":1,\"x1\":2,\"y2\":3}\n",
    "print(dd.order)\n",
    "temp = ts2.to_tdd(dd)"
   ]
  },
  {
   "cell_type": "code",
   "execution_count": 19,
   "metadata": {},
   "outputs": [
    {
     "data": {
      "text/plain": [
       "TDDpy.ddpackage"
      ]
     },
     "execution_count": 19,
     "metadata": {},
     "output_type": "execute_result"
    }
   ],
   "source": [
    "type(dd)"
   ]
  },
  {
   "cell_type": "code",
   "execution_count": 20,
   "metadata": {},
   "outputs": [
    {
     "data": {
      "text/plain": [
       "20"
      ]
     },
     "execution_count": 20,
     "metadata": {},
     "output_type": "execute_result"
    }
   ],
   "source": [
    "qubit=20\n",
    "t = time.time()\n",
    "n =TDD.qubit_in_cir(f\"../Benchmark/combinational/bv/bv_{qubit}.qasm\")\n",
    "n"
   ]
  },
  {
   "cell_type": "code",
   "execution_count": 23,
   "metadata": {},
   "outputs": [
    {
     "data": {
      "text/plain": [
       "47.53907132148743"
      ]
     },
     "execution_count": 23,
     "metadata": {},
     "output_type": "execute_result"
    },
    {
     "name": "stdout",
     "output_type": "stream",
     "text": [
      "Start!!!\n",
      "done\n",
      "-------------------------\n",
      "2th/60 tdd:\n",
      "-------------------------\n",
      "3th/60 tdd:\n",
      "-------------------------\n",
      "4th/60 tdd:\n",
      "-------------------------\n",
      "5th/60 tdd:\n",
      "-------------------------\n",
      "6th/60 tdd:\n",
      "-------------------------\n",
      "7th/60 tdd:\n",
      "-------------------------\n",
      "8th/60 tdd:\n",
      "-------------------------\n",
      "9th/60 tdd:\n",
      "-------------------------\n",
      "10th/60 tdd:\n",
      "-------------------------\n",
      "11th/60 tdd:\n",
      "-------------------------\n",
      "12th/60 tdd:\n",
      "-------------------------\n",
      "13th/60 tdd:\n",
      "-------------------------\n",
      "14th/60 tdd:\n",
      "-------------------------\n",
      "15th/60 tdd:\n",
      "-------------------------\n",
      "16th/60 tdd:\n",
      "-------------------------\n",
      "17th/60 tdd:\n",
      "-------------------------\n",
      "18th/60 tdd:\n",
      "-------------------------\n",
      "19th/60 tdd:\n",
      "-------------------------\n",
      "20th/60 tdd:\n",
      "-------------------------\n",
      "21th/60 tdd:\n",
      "-------------------------\n",
      "22th/60 tdd:\n",
      "-------------------------\n",
      "23th/60 tdd:\n",
      "-------------------------\n",
      "24th/60 tdd:\n",
      "-------------------------\n",
      "25th/60 tdd:\n",
      "-------------------------\n",
      "26th/60 tdd:\n",
      "-------------------------\n",
      "27th/60 tdd:\n",
      "-------------------------\n",
      "28th/60 tdd:\n",
      "-------------------------\n",
      "29th/60 tdd:\n",
      "-------------------------\n",
      "30th/60 tdd:\n",
      "-------------------------\n",
      "31th/60 tdd:\n",
      "-------------------------\n",
      "32th/60 tdd:\n",
      "-------------------------\n",
      "33th/60 tdd:\n",
      "-------------------------\n",
      "34th/60 tdd:\n",
      "-------------------------\n",
      "35th/60 tdd:\n",
      "-------------------------\n",
      "36th/60 tdd:\n",
      "-------------------------\n",
      "37th/60 tdd:\n",
      "-------------------------\n",
      "38th/60 tdd:\n",
      "-------------------------\n",
      "39th/60 tdd:\n",
      "-------------------------\n",
      "40th/60 tdd:\n",
      "-------------------------\n",
      "41th/60 tdd:\n",
      "-------------------------\n",
      "42th/60 tdd:\n",
      "-------------------------\n",
      "43th/60 tdd:\n",
      "-------------------------\n",
      "44th/60 tdd:\n",
      "-------------------------\n",
      "45th/60 tdd:\n",
      "-------------------------\n",
      "46th/60 tdd:\n",
      "-------------------------\n",
      "47th/60 tdd:\n",
      "-------------------------\n",
      "48th/60 tdd:\n",
      "-------------------------\n",
      "49th/60 tdd:\n",
      "-------------------------\n",
      "50th/60 tdd:\n",
      "-------------------------\n",
      "51th/60 tdd:\n",
      "-------------------------\n",
      "52th/60 tdd:\n",
      "-------------------------\n",
      "53th/60 tdd:\n",
      "-------------------------\n",
      "54th/60 tdd:\n",
      "-------------------------\n",
      "55th/60 tdd:\n",
      "-------------------------\n",
      "56th/60 tdd:\n",
      "-------------------------\n",
      "57th/60 tdd:\n",
      "-------------------------\n",
      "58th/60 tdd:\n",
      "-------------------------\n",
      "59th/60 tdd:\n",
      "-------------------------\n",
      "60th/60 tdd:\n"
     ]
    }
   ],
   "source": [
    "dd = TDD.init(n*3)\n",
    "tn =TDD.cir2tn(\"../Benchmark/combinational/bv/\",f\"bv_{qubit}.qasm\",dd)\n",
    "tn.to_tdd(dd)\n",
    "time.time() - t"
   ]
  },
  {
   "cell_type": "code",
   "execution_count": null,
   "metadata": {},
   "outputs": [],
   "source": [
    "# dd.test=True"
   ]
  },
  {
   "cell_type": "code",
   "execution_count": null,
   "metadata": {},
   "outputs": [],
   "source": []
  },
  {
   "cell_type": "code",
   "execution_count": null,
   "metadata": {},
   "outputs": [
    {
     "data": {
      "text/plain": [
       "TDD.tdd"
      ]
     },
     "execution_count": 23,
     "metadata": {},
     "output_type": "execute_result"
    }
   ],
   "source": [
    "type(temp)"
   ]
  },
  {
   "cell_type": "code",
   "execution_count": null,
   "metadata": {},
   "outputs": [
    {
     "data": {
      "text/plain": [
       "0"
      ]
     },
     "execution_count": 24,
     "metadata": {},
     "output_type": "execute_result"
    }
   ],
   "source": [
    "temp.index_set[0].idx"
   ]
  },
  {
   "cell_type": "code",
   "execution_count": null,
   "metadata": {},
   "outputs": [
    {
     "data": {
      "text/plain": [
       "TDD.Edge"
      ]
     },
     "execution_count": 25,
     "metadata": {},
     "output_type": "execute_result"
    }
   ],
   "source": [
    "type(temp.e)"
   ]
  },
  {
   "cell_type": "code",
   "execution_count": null,
   "metadata": {},
   "outputs": [
    {
     "data": {
      "text/plain": [
       "TDD.mNode"
      ]
     },
     "execution_count": 26,
     "metadata": {},
     "output_type": "execute_result"
    }
   ],
   "source": [
    "type(temp.e.p)"
   ]
  },
  {
   "cell_type": "code",
   "execution_count": null,
   "metadata": {},
   "outputs": [
    {
     "data": {
      "text/plain": [
       "4"
      ]
     },
     "execution_count": 27,
     "metadata": {},
     "output_type": "execute_result"
    }
   ],
   "source": [
    "len(temp.e.p.e)"
   ]
  },
  {
   "cell_type": "code",
   "execution_count": null,
   "metadata": {},
   "outputs": [
    {
     "data": {
      "text/plain": [
       "TDD.Edge"
      ]
     },
     "execution_count": 28,
     "metadata": {},
     "output_type": "execute_result"
    }
   ],
   "source": [
    "type(temp.e.p.e[0])"
   ]
  },
  {
   "cell_type": "code",
   "execution_count": null,
   "metadata": {},
   "outputs": [
    {
     "data": {
      "text/plain": [
       "TDD.mNode"
      ]
     },
     "execution_count": 29,
     "metadata": {},
     "output_type": "execute_result"
    }
   ],
   "source": [
    "type(temp.e.p.e[0].p)"
   ]
  },
  {
   "cell_type": "code",
   "execution_count": null,
   "metadata": {},
   "outputs": [
    {
     "data": {
      "text/plain": [
       "complex number: 1.000000+0.000000"
      ]
     },
     "execution_count": 30,
     "metadata": {},
     "output_type": "execute_result"
    }
   ],
   "source": [
    "temp.e.p.e[0]"
   ]
  },
  {
   "cell_type": "code",
   "execution_count": null,
   "metadata": {},
   "outputs": [
    {
     "data": {
      "text/plain": [
       "[complex number: 1.000000+0.000000,\n",
       " complex number: 0.000000+0.000000,\n",
       " complex number: 0.000000+0.000000,\n",
       " complex number: 0.000000+0.000000]"
      ]
     },
     "execution_count": 31,
     "metadata": {},
     "output_type": "execute_result"
    }
   ],
   "source": [
    "temp.e.p.e[0].p.e"
   ]
  },
  {
   "cell_type": "code",
   "execution_count": null,
   "metadata": {},
   "outputs": [
    {
     "name": "stderr",
     "output_type": "stream",
     "text": [
      "Warning: node 781720, port 3 unrecognized\n",
      "Warning: node 781720, port 2 unrecognized\n",
      "Warning: node 781700, port 2 unrecognized\n",
      "Warning: node 781680, port 3 unrecognized\n"
     ]
    }
   ],
   "source": [
    "TDD.draw(temp.e,\"cnot\")"
   ]
  }
 ],
 "metadata": {
  "kernelspec": {
   "display_name": "Python 3",
   "language": "python",
   "name": "python3"
  },
  "language_info": {
   "codemirror_mode": {
    "name": "ipython",
    "version": 3
   },
   "file_extension": ".py",
   "mimetype": "text/x-python",
   "name": "python",
   "nbconvert_exporter": "python",
   "pygments_lexer": "ipython3",
   "version": "3.8.10"
  }
 },
 "nbformat": 4,
 "nbformat_minor": 2
}
