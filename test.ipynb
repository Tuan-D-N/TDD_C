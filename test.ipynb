{
 "cells": [
  {
   "cell_type": "code",
   "execution_count": 1,
   "metadata": {},
   "outputs": [
    {
     "name": "stdout",
     "output_type": "stream",
     "text": [
      "3\n"
     ]
    }
   ],
   "source": [
    "import sys\n",
    "sys.path.append('/home/gaodc/TDD_C/build')\n",
    "import TDD\n",
    "\n",
    "print(TDD.add(1, 2))\n"
   ]
  },
  {
   "cell_type": "code",
   "execution_count": 2,
   "metadata": {},
   "outputs": [],
   "source": [
    "import numpy as np"
   ]
  },
  {
   "cell_type": "code",
   "execution_count": 3,
   "metadata": {},
   "outputs": [
    {
     "data": {
      "text/plain": [
       "1.0"
      ]
     },
     "execution_count": 3,
     "metadata": {},
     "output_type": "execute_result"
    }
   ],
   "source": [
    "a = TDD.ComplexValue(1,1)\n",
    "a.i"
   ]
  },
  {
   "cell_type": "code",
   "execution_count": 4,
   "metadata": {},
   "outputs": [
    {
     "data": {
      "text/plain": [
       "<TDD.Index at 0x7fe82c284ab0>"
      ]
     },
     "execution_count": 4,
     "metadata": {},
     "output_type": "execute_result"
    }
   ],
   "source": [
    "TDD.Index(\"x0\",0)"
   ]
  },
  {
   "cell_type": "code",
   "execution_count": 5,
   "metadata": {},
   "outputs": [],
   "source": [
    "data = np.array([1+2j])"
   ]
  },
  {
   "cell_type": "code",
   "execution_count": 6,
   "metadata": {},
   "outputs": [],
   "source": [
    "A = TDD.xarrayClass(data,[data])"
   ]
  },
  {
   "cell_type": "code",
   "execution_count": 7,
   "metadata": {},
   "outputs": [
    {
     "name": "stdout",
     "output_type": "stream",
     "text": [
      "data: {1+2i}\n",
      "datas: \n",
      "{1+2i}\n"
     ]
    }
   ],
   "source": [
    "A.infor()"
   ]
  },
  {
   "cell_type": "code",
   "execution_count": 8,
   "metadata": {},
   "outputs": [],
   "source": [
    "ts1 = TDD.Tensor(data,[TDD.Index(\"x0\",0)],\"x1\")"
   ]
  },
  {
   "cell_type": "code",
   "execution_count": 9,
   "metadata": {},
   "outputs": [
    {
     "name": "stdout",
     "output_type": "stream",
     "text": [
      "Je suis un TensorNetwork.\n",
      "et j'ai 1 tenseur\n"
     ]
    }
   ],
   "source": [
    "tn = TDD.Tn([ts1])\n",
    "tn.infor()"
   ]
  },
  {
   "cell_type": "code",
   "execution_count": 10,
   "metadata": {},
   "outputs": [
    {
     "name": "stdout",
     "output_type": "stream",
     "text": [
      "Je suis un TensorNetwork.\n",
      "et j'ai 2 tenseur\n"
     ]
    }
   ],
   "source": [
    "tn.add(ts1)\n",
    "tn.infor()"
   ]
  },
  {
   "cell_type": "code",
   "execution_count": 11,
   "metadata": {},
   "outputs": [
    {
     "name": "stdout",
     "output_type": "stream",
     "text": [
      "Je suis un TensorNetwork.\n",
      "et j'ai 0 tenseur\n"
     ]
    }
   ],
   "source": [
    "tn = TDD.Tn([])\n",
    "tn.infor()"
   ]
  },
  {
   "cell_type": "code",
   "execution_count": 12,
   "metadata": {},
   "outputs": [
    {
     "data": {
      "text/plain": [
       "<TDD.ddpackage at 0x7fe82c2869b0>"
      ]
     },
     "execution_count": 12,
     "metadata": {},
     "output_type": "execute_result"
    }
   ],
   "source": [
    "TDD.ddtable(5)"
   ]
  },
  {
   "cell_type": "code",
   "execution_count": 13,
   "metadata": {},
   "outputs": [],
   "source": [
    "dd = TDD.ddtable(10)\n",
    "dd.order = {\"x0\":0,\"y0\":1,\"x1\":2,\"y2\":3}\n",
    "cx = np.array([[1,0,0,0],\n",
    "               [0,1,0,0],\n",
    "               [0,0,0,1],\n",
    "               [0,0,1,0]],dtype=complex)\n",
    "ts1 = TDD.Tensor(cx,[TDD.Index(\"x0\",1),TDD.Index(\"y2\",3)],\"cx\")"
   ]
  }
 ],
 "metadata": {
  "kernelspec": {
   "display_name": "Python 3",
   "language": "python",
   "name": "python3"
  },
  "language_info": {
   "codemirror_mode": {
    "name": "ipython",
    "version": 3
   },
   "file_extension": ".py",
   "mimetype": "text/x-python",
   "name": "python",
   "nbconvert_exporter": "python",
   "pygments_lexer": "ipython3",
   "version": "3.10.12"
  }
 },
 "nbformat": 4,
 "nbformat_minor": 2
}
