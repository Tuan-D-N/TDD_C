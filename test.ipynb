{
 "cells": [
  {
   "cell_type": "code",
   "execution_count": 1,
   "metadata": {},
   "outputs": [],
   "source": [
    "import sys\n",
    "import os\n",
    "sys.path.append(\"/home/gaodc/TDD_C/TDD\")"
   ]
  },
  {
   "cell_type": "code",
   "execution_count": 10,
   "metadata": {},
   "outputs": [],
   "source": [
    "import numpy as np\n",
    "from TDD import Ini_TDD,Clear_TDD,cont,add,TDD\n",
    "from TDD_Q import reshape, cir_2_tn, get_real_qubit_num\n",
    "from TN import Index,Tensor,TensorNetwork\n",
    "import Gate as G\n",
    "from functools import reduce\n",
    "from qiskit import QuantumCircuit, BasicAer, transpile"
   ]
  },
  {
   "cell_type": "code",
   "execution_count": 3,
   "metadata": {},
   "outputs": [
    {
     "data": {
      "text/plain": [
       "<qiskit.circuit.instructionset.InstructionSet at 0x7fe672f30790>"
      ]
     },
     "execution_count": 3,
     "metadata": {},
     "output_type": "execute_result"
    }
   ],
   "source": [
    "qc = QuantumCircuit(4)\n",
    "qc.h(2)\n",
    "qc.x(1)\n",
    "qc.cx(1,2)\n",
    "qc.t(2)"
   ]
  },
  {
   "cell_type": "code",
   "execution_count": 4,
   "metadata": {},
   "outputs": [],
   "source": [
    "tn, all_indexs = cir_2_tn(qc)\n",
    "n = get_real_qubit_num(qc)"
   ]
  },
  {
   "cell_type": "markdown",
   "metadata": {},
   "source": [
    "# write tn.tensors to tensor.csv"
   ]
  },
  {
   "cell_type": "code",
   "execution_count": 7,
   "metadata": {},
   "outputs": [],
   "source": [
    "import csv\n",
    "\n",
    "with open('tensor.csv', 'w', newline='') as csvfile:\n",
    "    writer = csv.writer(csvfile)\n",
    "    writer.writerow([\"tensor.data\",\"tensor.data.shape\",\"tensor.index_set\"])\n",
    "    for ts in tn.tensors[:-1]:\n",
    "        data = np.array2string(ts.data,formatter={'all': lambda x: f'{x.real:.1f}{x.imag:+.1f}j' if isinstance(x, complex) else f'{x:.1f}'}).replace(\"\\n\", \" \")\n",
    "        shape = \" \".join(str(i) for i in ts.data.shape)\n",
    "        index_temp = [[i.key,i.idx] for i in ts.index_set]\n",
    "        index_str = \"\"\n",
    "        for i in index_temp:\n",
    "            index_str = index_str + i[0] +\":\"+ str(i[1]) + \" \"\n",
    "        writer.writerow([data,shape,index_str.strip()])"
   ]
  },
  {
   "cell_type": "code",
   "execution_count": 9,
   "metadata": {},
   "outputs": [],
   "source": [
    "import csv\n",
    "with open('order.csv', 'w', newline='') as csvfile:\n",
    "    writer = csv.writer(csvfile)\n",
    "    for index in all_indexs:\n",
    "        writer.writerow([index])"
   ]
  },
  {
   "cell_type": "code",
   "execution_count": 5,
   "metadata": {},
   "outputs": [
    {
     "name": "stdout",
     "output_type": "stream",
     "text": [
      "{{1, 0, 0, 0},\n",
      " {0, 1, 0, 0},\n",
      " {0, 0, 0, 1},\n",
      " {0, 0, 1, 0}}\n",
      "index key: x0\n",
      "index idx: 0\n",
      "index key: x0\n",
      "index idx: 0\n",
      "index key: x2\n",
      "index idx: 0\n",
      "index key: x3\n",
      "index idx: 0\n",
      "{{{{1, 0},\n",
      "   {0, 1}},\n",
      "  {{0, 0},\n",
      "   {0, 0}}},\n",
      " {{{0, 0},\n",
      "   {0, 0}},\n",
      "  {{0, 1},\n",
      "   {1, 0}}}}\n",
      "index key: x0\n",
      "index idx: 0\n",
      "index key: x0\n",
      "index idx: 0\n",
      "index key: x2\n",
      "index idx: 0\n",
      "index key: x3\n",
      "index idx: 0\n",
      "\n",
      "\n"
     ]
    }
   ],
   "source": [
    "import subprocess\n",
    "\n",
    "# Define the path to your compiled C++ executable\n",
    "cpp_executable = \"./build/TDD_C \"\n",
    "\n",
    "# Define the input data as a string\n",
    "tesnosr_data = \"tensor.csv \"\n",
    "order_data = \" order.csv\"\n",
    "# Run the C++ program and pass input data\n",
    "process = subprocess.Popen(cpp_executable+input_data, stdin=subprocess.PIPE, stdout=subprocess.PIPE, stderr=subprocess.PIPE, shell=True)\n",
    "\n",
    "stdout, stderr = process.communicate()\n",
    "\n",
    "print(stdout.decode('utf-8'))\n",
    "print(stderr.decode('utf-8'))"
   ]
  }
 ],
 "metadata": {
  "kernelspec": {
   "display_name": "Python 3",
   "language": "python",
   "name": "python3"
  },
  "language_info": {
   "codemirror_mode": {
    "name": "ipython",
    "version": 3
   },
   "file_extension": ".py",
   "mimetype": "text/x-python",
   "name": "python",
   "nbconvert_exporter": "python",
   "pygments_lexer": "ipython3",
   "version": "3.10.12"
  }
 },
 "nbformat": 4,
 "nbformat_minor": 2
}
