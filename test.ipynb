{
 "cells": [
  {
   "cell_type": "code",
   "execution_count": 38,
   "metadata": {},
   "outputs": [],
   "source": [
    "import sys\n",
    "import os\n",
    "sys.path.append(\"/home/gaodc/TDD_C/TDD\")"
   ]
  },
  {
   "cell_type": "code",
   "execution_count": 39,
   "metadata": {},
   "outputs": [],
   "source": [
    "import numpy as np\n",
    "from TDD import Ini_TDD,Clear_TDD,cont,add,TDD\n",
    "from TDD_Q import reshape, cir_2_tn, get_real_qubit_num\n",
    "from TN import Index,Tensor,TensorNetwork\n",
    "from qiskit import QuantumCircuit, BasicAer, transpile\n",
    "import csv\n",
    "from gen_benchmark import gen_cir,get_qasm"
   ]
  },
  {
   "cell_type": "code",
   "execution_count": 40,
   "metadata": {},
   "outputs": [],
   "source": [
    "ket_a=1/np.sqrt(2)*np.array([1,1],dtype=complex)\n",
    "ket_m=1/np.sqrt(2)*np.array([1,-1],dtype=complex)\n",
    "ket_0=np.array([1,0],dtype=complex)\n",
    "ket_1=np.array([0,1],dtype=complex)\n",
    "ket = {\"+\":ket_a,\"-\":ket_m,\"0\":ket_0,\"1\":ket_1}\n",
    "def generate_ini_state(qubits_num:int,state:str):\n",
    "    initial_state=[]\n",
    "    for k in range(qubits_num):\n",
    "        ts=Tensor(ket[state[k]],[Index(f\"x{k}\")])\n",
    "        initial_state.append(ts)\n",
    "    return initial_state"
   ]
  },
  {
   "cell_type": "code",
   "execution_count": 41,
   "metadata": {},
   "outputs": [],
   "source": [
    "def cir_2_file(qc):\n",
    "    tn, all_indexs = cir_2_tn(qc)\n",
    "    n = get_real_qubit_num(qc)\n",
    "    tn.tensors.extend(generate_ini_state(n,\"0\"*n))\n",
    "    with open('tensor.csv', 'w', newline='') as csvfile:\n",
    "        writer = csv.writer(csvfile)\n",
    "        writer.writerow([\"tensor.data\",\"tensor.data.shape\",\"tensor.index_set\"])\n",
    "        for ts in tn.tensors:\n",
    "            data = np.array2string(ts.data,formatter={'all': lambda x: f'{x.real:.1f}{x.imag:+.1f}j' if isinstance(x, complex) else f'{x:.1f}'}).replace(\"\\n\", \" \").replace(\"[\",\"\").replace(\"]\",\"\")\n",
    "            shape = \" \".join(str(i) for i in ts.data.shape if i!=1)\n",
    "            # print(len(ts.index_set))\n",
    "            index_temp = [[i.key,i.idx] for i in ts.index_set]\n",
    "            index_str = \"\"\n",
    "            for i in index_temp:\n",
    "                index_str = index_str + i[0] +\":\"+ str(i[1]) + \" \"\n",
    "            writer.writerow([data,shape,index_str.strip()])\n",
    "    \n",
    "    with open('order.csv', 'w', newline='') as csvfile:\n",
    "        writer = csv.writer(csvfile)\n",
    "        writer.writerow([n])\n",
    "        for index in all_indexs:\n",
    "            writer.writerow([index])"
   ]
  },
  {
   "cell_type": "code",
   "execution_count": 42,
   "metadata": {},
   "outputs": [],
   "source": [
    "qc = gen_cir[\"grover\"]()\n",
    "cir_2_file(qc)"
   ]
  },
  {
   "cell_type": "code",
   "execution_count": 50,
   "metadata": {},
   "outputs": [
    {
     "name": "stdout",
     "output_type": "stream",
     "text": [
      "Je suis un TensorNetwork.\n",
      "et j'ai 38 tenseur\n",
      "begin:\n",
      "-------------------------\n",
      "2th/38 tdd:\n",
      "-------------------------\n",
      "3th/38 tdd:\n",
      "-------------------------\n",
      "4th/38 tdd:\n",
      "-------------------------\n",
      "5th/38 tdd:\n",
      "-------------------------\n",
      "6th/38 tdd:\n",
      "-------------------------\n",
      "7th/38 tdd:\n",
      "-------------------------\n",
      "8th/38 tdd:\n",
      "-------------------------\n",
      "9th/38 tdd:\n",
      "-------------------------\n",
      "10th/38 tdd:\n",
      "-------------------------\n",
      "11th/38 tdd:\n",
      "-------------------------\n",
      "12th/38 tdd:\n",
      "-------------------------\n",
      "13th/38 tdd:\n",
      "-------------------------\n",
      "14th/38 tdd:\n",
      "-------------------------\n",
      "15th/38 tdd:\n",
      "-------------------------\n",
      "16th/38 tdd:\n",
      "-------------------------\n",
      "17th/38 tdd:\n",
      "-------------------------\n",
      "18th/38 tdd:\n",
      "-------------------------\n",
      "19th/38 tdd:\n",
      "-------------------------\n",
      "20th/38 tdd:\n",
      "-------------------------\n",
      "21th/38 tdd:\n",
      "-------------------------\n",
      "22th/38 tdd:\n",
      "-------------------------\n",
      "23th/38 tdd:\n",
      "-------------------------\n",
      "24th/38 tdd:\n",
      "-------------------------\n",
      "25th/38 tdd:\n",
      "-------------------------\n",
      "26th/38 tdd:\n",
      "-------------------------\n",
      "27th/38 tdd:\n",
      "-------------------------\n",
      "28th/38 tdd:\n",
      "-------------------------\n",
      "29th/38 tdd:\n",
      "-------------------------\n",
      "30th/38 tdd:\n",
      "-------------------------\n",
      "31th/38 tdd:\n",
      "-------------------------\n",
      "32th/38 tdd:\n",
      "-------------------------\n",
      "33th/38 tdd:\n",
      "-------------------------\n",
      "34th/38 tdd:\n",
      "-------------------------\n",
      "35th/38 tdd:\n",
      "-------------------------\n",
      "36th/38 tdd:\n",
      "-------------------------\n",
      "37th/38 tdd:\n",
      "-------------------------\n",
      "38th/38 tdd:\n",
      "time: 0.016857s\n",
      "\n",
      "\n"
     ]
    },
    {
     "data": {
      "text/plain": [
       "0.37490320205688477"
      ]
     },
     "execution_count": 50,
     "metadata": {},
     "output_type": "execute_result"
    }
   ],
   "source": [
    "import subprocess\n",
    "import time\n",
    "# Define the path to your compiled C++ executable\n",
    "cpp_executable = \"./build/TDD_C \"\n",
    "\n",
    "# Define the input data as a string\n",
    "tesnosr_data = \"tensor.csv \"\n",
    "order_data = \" order.csv\"\n",
    "s = time.time()\n",
    "# Run the C++ program and pass input data\n",
    "process = subprocess.Popen(cpp_executable+tesnosr_data+order_data, stdin=subprocess.PIPE, stdout=subprocess.PIPE, stderr=subprocess.PIPE, shell=True)\n",
    "\n",
    "stdout, stderr = process.communicate()\n",
    "\n",
    "print(stdout.decode('utf-8'))\n",
    "print(stderr.decode('utf-8'))\n",
    "time.time() - s"
   ]
  }
 ],
 "metadata": {
  "kernelspec": {
   "display_name": "Python 3",
   "language": "python",
   "name": "python3"
  },
  "language_info": {
   "codemirror_mode": {
    "name": "ipython",
    "version": 3
   },
   "file_extension": ".py",
   "mimetype": "text/x-python",
   "name": "python",
   "nbconvert_exporter": "python",
   "pygments_lexer": "ipython3",
   "version": "3.10.12"
  }
 },
 "nbformat": 4,
 "nbformat_minor": 2
}
