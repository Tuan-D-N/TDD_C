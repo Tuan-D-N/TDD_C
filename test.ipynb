{
 "cells": [
  {
   "cell_type": "code",
   "execution_count": 1,
   "metadata": {},
   "outputs": [
    {
     "name": "stdout",
     "output_type": "stream",
     "text": [
      "3\n"
     ]
    }
   ],
   "source": [
    "import sys\n",
    "sys.path.append('/home/gaodc/TDD_C/build')\n",
    "import TDD\n",
    "\n",
    "print(TDD.add(1, 2))\n"
   ]
  },
  {
   "cell_type": "code",
   "execution_count": 2,
   "metadata": {},
   "outputs": [],
   "source": [
    "import numpy as np"
   ]
  },
  {
   "cell_type": "code",
   "execution_count": 3,
   "metadata": {},
   "outputs": [
    {
     "name": "stdout",
     "output_type": "stream",
     "text": [
      "data: { 1.,  2.,  3.}\n",
      "datas: \n",
      "{ 4.,  5.,  6.}\n",
      "{ 7.,  8.,  9.}\n",
      "{ 10.,  11.,  12.}\n"
     ]
    }
   ],
   "source": [
    "data = np.array([1, 2, 3])\n",
    "datas = [np.array([4, 5, 6]), np.array([7, 8, 9])]\n",
    "xarray_obj = TDD.xarrayClass(data, datas)\n",
    "xarray_obj.add(np.array([10, 11, 12]))\n",
    "xarray_obj.infor()"
   ]
  }
 ],
 "metadata": {
  "kernelspec": {
   "display_name": "Python 3",
   "language": "python",
   "name": "python3"
  },
  "language_info": {
   "codemirror_mode": {
    "name": "ipython",
    "version": 3
   },
   "file_extension": ".py",
   "mimetype": "text/x-python",
   "name": "python",
   "nbconvert_exporter": "python",
   "pygments_lexer": "ipython3",
   "version": "3.10.12"
  }
 },
 "nbformat": 4,
 "nbformat_minor": 2
}
