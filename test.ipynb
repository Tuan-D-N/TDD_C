{
 "cells": [
  {
   "cell_type": "code",
   "execution_count": 19,
   "metadata": {},
   "outputs": [
    {
     "name": "stdout",
     "output_type": "stream",
     "text": [
      "hello\n",
      "./build/TDD_C\n",
      "\n"
     ]
    }
   ],
   "source": [
    "import subprocess\n",
    "\n",
    "# Define the path to your compiled C++ executable\n",
    "cpp_executable = \"./build/TDD_C \"\n",
    "\n",
    "# Define the input data as a string\n",
    "input_data = \"Hello, World!\\n\"\n",
    "\n",
    "# Run the C++ program and pass input data\n",
    "process = subprocess.Popen(cpp_executable+input_data, stdin=subprocess.PIPE, stdout=subprocess.PIPE, stderr=subprocess.PIPE, shell=True)\n",
    "\n",
    "# Pass the input data to the C++ program\n",
    "stdout, stderr = process.communicate(input_data.encode('utf-8'))\n",
    "\n",
    "# Check if the process was successful\n",
    "# if process.returncode == 0:\n",
    "#     print(\"C++ program executed successfully\")\n",
    "#     print(\"Standard Output:\")\n",
    "#     print(stdout.decode('utf-8'))\n",
    "# else:\n",
    "#     print(\"C++ program encountered an error\")\n",
    "#     print(\"Standard Error:\")\n",
    "#     print(stderr.decode('utf-8'))\n",
    "print(stdout.decode('utf-8'))"
   ]
  }
 ],
 "metadata": {
  "kernelspec": {
   "display_name": "Python 3",
   "language": "python",
   "name": "python3"
  },
  "language_info": {
   "codemirror_mode": {
    "name": "ipython",
    "version": 3
   },
   "file_extension": ".py",
   "mimetype": "text/x-python",
   "name": "python",
   "nbconvert_exporter": "python",
   "pygments_lexer": "ipython3",
   "version": "3.10.12"
  }
 },
 "nbformat": 4,
 "nbformat_minor": 2
}
