{
 "cells": [
  {
   "cell_type": "code",
   "execution_count": 1,
   "metadata": {},
   "outputs": [],
   "source": [
    "import sys\n",
    "import os\n",
    "sys.path.append(\"/home/gaodc/TDD_C/TDD\")"
   ]
  },
  {
   "cell_type": "code",
   "execution_count": 2,
   "metadata": {},
   "outputs": [],
   "source": [
    "import numpy as np\n",
    "from TDD import Ini_TDD,Clear_TDD,cont,add,TDD\n",
    "from TDD_Q import reshape\n",
    "from TN import Index,Tensor,TensorNetwork\n",
    "import Gate as G\n",
    "from functools import reduce"
   ]
  },
  {
   "cell_type": "code",
   "execution_count": 9,
   "metadata": {},
   "outputs": [],
   "source": [
    "index_set = [[f\"y{i}\",f\"z{i}\",f\"x{i}\"] for i in range(6)]\n",
    "index_set = reduce(lambda a,b : a+b, index_set)\n",
    "Ini_TDD([\"i\"]+index_set)\n",
    "Cx = np.array([[1,0,0,0],[0,1,0,0],[0,0,0,1],[0,0,1,0]],dtype=complex)\n",
    "indexes = [f\"x{i}\" for i in range(6)]\n",
    "ts1 = Tensor(Cx,[Index(i) for i in [\"x0\",\"x1\"]])\n",
    "tn = [ts1]"
   ]
  },
  {
   "cell_type": "code",
   "execution_count": 11,
   "metadata": {},
   "outputs": [],
   "source": [
    "import csv\n",
    "\n",
    "with open('tensor.csv', 'w', newline='') as csvfile:\n",
    "    writer = csv.writer(csvfile)\n",
    "    writer.writerow([\"tensor.data\",\"tensor.data.shape\",\"tensor.index_set\"])\n",
    "    for ts in tn:\n",
    "        data = np.array2string(ts.data,formatter={'all': lambda x: f'{x.real:.1f}{x.imag:+.1f}j' if isinstance(x, complex) else f'{x:.1f}'}).replace(\"\\n\", \" \")\n",
    "        shape = \" \".join(str(i) for i in ts.data.shape)\n",
    "        index_temp = {i.key:i.idx for i in ts.index_set}\n",
    "        index_str = \"\"\n",
    "        for i in index_temp:\n",
    "            index_str = index_str + i +\":\"+ str(index_temp[i]) + \" \"\n",
    "        writer.writerow([data,shape,index_temp])"
   ]
  },
  {
   "cell_type": "code",
   "execution_count": 17,
   "metadata": {},
   "outputs": [
    {
     "data": {
      "text/plain": [
       "'x0:0 x1:0 '"
      ]
     },
     "execution_count": 17,
     "metadata": {},
     "output_type": "execute_result"
    }
   ],
   "source": [
    "\n",
    "index_str"
   ]
  },
  {
   "cell_type": "code",
   "execution_count": 68,
   "metadata": {},
   "outputs": [
    {
     "name": "stdout",
     "output_type": "stream",
     "text": [
      "data=\n",
      "0\n",
      "0\n",
      "0\n",
      "0\n",
      "0\n",
      "0\n",
      "0\n",
      "0\n",
      "0\n",
      "0\n",
      "0\n",
      "0\n",
      "0\n",
      "0\n",
      "0\n",
      "0\n",
      "0\n",
      "\n",
      "invaild data. data=\n",
      "invaild data. shape=\n",
      "\n"
     ]
    }
   ],
   "source": [
    "import subprocess\n",
    "\n",
    "# Define the path to your compiled C++ executable\n",
    "cpp_executable = \"./build/TDD_C \"\n",
    "\n",
    "# Define the input data as a string\n",
    "input_data = \"tensor.csv\"\n",
    "\n",
    "# Run the C++ program and pass input data\n",
    "process = subprocess.Popen(cpp_executable+input_data, stdin=subprocess.PIPE, stdout=subprocess.PIPE, stderr=subprocess.PIPE, shell=True)\n",
    "\n",
    "stdout, stderr = process.communicate()\n",
    "\n",
    "print(stdout.decode('utf-8'))\n",
    "print(stderr.decode('utf-8'))"
   ]
  }
 ],
 "metadata": {
  "kernelspec": {
   "display_name": "Python 3",
   "language": "python",
   "name": "python3"
  },
  "language_info": {
   "codemirror_mode": {
    "name": "ipython",
    "version": 3
   },
   "file_extension": ".py",
   "mimetype": "text/x-python",
   "name": "python",
   "nbconvert_exporter": "python",
   "pygments_lexer": "ipython3",
   "version": "3.10.12"
  }
 },
 "nbformat": 4,
 "nbformat_minor": 2
}
