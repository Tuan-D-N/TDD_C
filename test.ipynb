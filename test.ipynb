{
 "cells": [
  {
   "cell_type": "code",
   "execution_count": 1,
   "metadata": {},
   "outputs": [],
   "source": [
    "import sys\n",
    "sys.path.append('/home/gaodc/TDD_C/build')\n",
    "import TDD"
   ]
  },
  {
   "cell_type": "code",
   "execution_count": 2,
   "metadata": {},
   "outputs": [],
   "source": [
    "import numpy as np"
   ]
  },
  {
   "cell_type": "code",
   "execution_count": 3,
   "metadata": {},
   "outputs": [
    {
     "data": {
      "text/plain": [
       "complex number: 1.000000+1.000000"
      ]
     },
     "execution_count": 3,
     "metadata": {},
     "output_type": "execute_result"
    }
   ],
   "source": [
    "a = TDD.ComplexValue(1,1)\n",
    "a"
   ]
  },
  {
   "cell_type": "code",
   "execution_count": 4,
   "metadata": {},
   "outputs": [
    {
     "data": {
      "text/plain": [
       "Index key: x0 Index idx:0"
      ]
     },
     "execution_count": 4,
     "metadata": {},
     "output_type": "execute_result"
    }
   ],
   "source": [
    "TDD.Index(\"x0\",0)"
   ]
  },
  {
   "cell_type": "code",
   "execution_count": 5,
   "metadata": {},
   "outputs": [],
   "source": [
    "data = np.array([1+2j])"
   ]
  },
  {
   "cell_type": "code",
   "execution_count": 6,
   "metadata": {},
   "outputs": [],
   "source": [
    "ts1 = TDD.Tensor(data,[TDD.Index(\"x0\",0)],\"x1\")"
   ]
  },
  {
   "cell_type": "code",
   "execution_count": 7,
   "metadata": {},
   "outputs": [
    {
     "data": {
      "text/plain": [
       "'a tensor network with 1 tensors'"
      ]
     },
     "execution_count": 7,
     "metadata": {},
     "output_type": "execute_result"
    }
   ],
   "source": [
    "tn = TDD.Tn([ts1])\n",
    "tn.infor()"
   ]
  },
  {
   "cell_type": "code",
   "execution_count": 8,
   "metadata": {},
   "outputs": [
    {
     "data": {
      "text/plain": [
       "'a tensor network with 2 tensors'"
      ]
     },
     "execution_count": 8,
     "metadata": {},
     "output_type": "execute_result"
    }
   ],
   "source": [
    "tn.add(ts1)\n",
    "tn.infor()"
   ]
  },
  {
   "cell_type": "code",
   "execution_count": 9,
   "metadata": {},
   "outputs": [
    {
     "data": {
      "text/plain": [
       "'a tensor network with 0 tensors'"
      ]
     },
     "execution_count": 9,
     "metadata": {},
     "output_type": "execute_result"
    }
   ],
   "source": [
    "tn = TDD.Tn([])\n",
    "tn.infor()"
   ]
  },
  {
   "cell_type": "code",
   "execution_count": 10,
   "metadata": {},
   "outputs": [
    {
     "name": "stdout",
     "output_type": "stream",
     "text": [
      "{}\n"
     ]
    },
    {
     "data": {
      "text/plain": [
       "TDD.ddpackage"
      ]
     },
     "execution_count": 10,
     "metadata": {},
     "output_type": "execute_result"
    }
   ],
   "source": [
    "dd = TDD.init(10)\n",
    "print(dd.order)\n",
    "dd.order = {\"x0\":0,\"y0\":1,\"x1\":2,\"y2\":3}\n",
    "type(dd)"
   ]
  },
  {
   "cell_type": "code",
   "execution_count": 11,
   "metadata": {},
   "outputs": [],
   "source": [
    "cx = np.array([\n",
    "        [[[1, 0], [0, 1]], [[0, 0], [0, 0]]], \n",
    "        [[[0, 0], [0, 0]], [[0, 1], [1, 0]]]\n",
    "    ],dtype=complex)\n",
    "ts1 = TDD.Tensor(cx,[TDD.Index(\"x0\",0),TDD.Index(\"y0\",1),TDD.Index(\"x1\",2),TDD.Index(\"y2\",3)],\"cx\")"
   ]
  },
  {
   "cell_type": "code",
   "execution_count": 12,
   "metadata": {},
   "outputs": [],
   "source": [
    "# temp = ts1.to_tdd(dd)"
   ]
  },
  {
   "cell_type": "code",
   "execution_count": 13,
   "metadata": {},
   "outputs": [],
   "source": [
    "tdd1 = ts1.to_tdd(dd,True)"
   ]
  },
  {
   "cell_type": "code",
   "execution_count": 14,
   "metadata": {},
   "outputs": [],
   "source": [
    "cx = np.array([\n",
    "        [1,0,0,0],\n",
    "        [0,1,0,0],\n",
    "        [0,0,0,1],\n",
    "        [0,0,1,0]\n",
    "    ],dtype=complex)\n",
    "ts2 = TDD.Tensor(cx,[TDD.Index(\"x0\",0),TDD.Index(\"y0\",1)],\"cnot\")"
   ]
  },
  {
   "cell_type": "code",
   "execution_count": 15,
   "metadata": {},
   "outputs": [
    {
     "name": "stderr",
     "output_type": "stream",
     "text": [
      "Warning: node 220756, port 3 unrecognized\n",
      "Warning: node 220756, port 2 unrecognized\n",
      "Warning: node 220736, port 2 unrecognized\n",
      "Warning: node 220716, port 3 unrecognized\n"
     ]
    }
   ],
   "source": [
    "tdd2 = ts2.to_tdd(dd,True)"
   ]
  },
  {
   "cell_type": "code",
   "execution_count": 16,
   "metadata": {},
   "outputs": [
    {
     "data": {
      "text/plain": [
       "<TDD.tdd at 0x7f6c10466af0>"
      ]
     },
     "execution_count": 16,
     "metadata": {},
     "output_type": "execute_result"
    }
   ],
   "source": [
    "dd.cont(tdd1,tdd2)"
   ]
  },
  {
   "cell_type": "code",
   "execution_count": 17,
   "metadata": {},
   "outputs": [
    {
     "data": {
      "text/plain": [
       "ddpack order: x0: 0; x1: 2; y0: 1; y2: 3; "
      ]
     },
     "execution_count": 17,
     "metadata": {},
     "output_type": "execute_result"
    }
   ],
   "source": [
    "dd"
   ]
  },
  {
   "cell_type": "code",
   "execution_count": 18,
   "metadata": {},
   "outputs": [
    {
     "name": "stdout",
     "output_type": "stream",
     "text": [
      "{'x0': 0, 'x1': 2, 'y0': 1, 'y2': 3}\n"
     ]
    }
   ],
   "source": [
    "dd = TDD.init(10)\n",
    "dd.order = {\"x0\":0,\"y0\":1,\"x1\":2,\"y2\":3}\n",
    "print(dd.order)\n",
    "temp = ts2.to_tdd(dd)"
   ]
  },
  {
   "cell_type": "code",
   "execution_count": 19,
   "metadata": {},
   "outputs": [
    {
     "data": {
      "text/plain": [
       "TDD.ddpackage"
      ]
     },
     "execution_count": 19,
     "metadata": {},
     "output_type": "execute_result"
    }
   ],
   "source": [
    "type(dd)"
   ]
  },
  {
   "cell_type": "code",
   "execution_count": 20,
   "metadata": {},
   "outputs": [
    {
     "data": {
      "text/plain": [
       "10"
      ]
     },
     "execution_count": 20,
     "metadata": {},
     "output_type": "execute_result"
    }
   ],
   "source": [
    "n = TDD.qubit_in_cir(\"/home/gaodc/TDD_C/Benchmarks/test.qasm\")\n",
    "n"
   ]
  },
  {
   "cell_type": "code",
   "execution_count": 21,
   "metadata": {},
   "outputs": [
    {
     "data": {
      "text/plain": [
       "ddpack order: "
      ]
     },
     "execution_count": 21,
     "metadata": {},
     "output_type": "execute_result"
    }
   ],
   "source": [
    "dd = TDD.init(n*3)\n",
    "dd"
   ]
  },
  {
   "cell_type": "code",
   "execution_count": 22,
   "metadata": {},
   "outputs": [
    {
     "name": "stdout",
     "output_type": "stream",
     "text": [
      "Start!!!\n",
      "done\n"
     ]
    }
   ],
   "source": [
    "tn = TDD.cir2tn(\"/home/gaodc/TDD_C/Benchmarks/\",\"tn_test.qasm\",dd)"
   ]
  },
  {
   "cell_type": "code",
   "execution_count": 23,
   "metadata": {},
   "outputs": [
    {
     "data": {
      "text/plain": [
       "a tensor network with 7 tensors"
      ]
     },
     "execution_count": 23,
     "metadata": {},
     "output_type": "execute_result"
    }
   ],
   "source": [
    "tn"
   ]
  },
  {
   "cell_type": "code",
   "execution_count": 24,
   "metadata": {},
   "outputs": [],
   "source": [
    "dd.test=True"
   ]
  },
  {
   "cell_type": "code",
   "execution_count": 25,
   "metadata": {},
   "outputs": [
    {
     "name": "stdout",
     "output_type": "stream",
     "text": [
      "-------------------------\n",
      "2th/7 tdd:\n",
      "TDD1: x000 x001 \n",
      "TDD2: x100 x101 \n",
      "TDD1: x000 x001 \n",
      "TDD2: x100 x101 \n",
      "TDD: x000 x001 x100 x101 \n",
      "-------------------------\n",
      "3th/7 tdd:\n",
      "TDD1: x000 x001 x100 x101 \n",
      "TDD2: x300 x301 \n",
      "TDD1: x000 x001 x100 x101 \n",
      "TDD2: x300 x301 \n",
      "TDD: x000 x001 x100 x101 x300 x301 \n",
      "-------------------------\n",
      "4th/7 tdd:\n",
      "TDD1: x000 x001 x100 x101 x300 x301 \n",
      "TDD2: x001 x002 \n",
      "TDD1: x000 x001 x100 x101 x300 x301 \n",
      "TDD2: x001 x002 \n",
      "TDD: x000 x002 x100 x101 x300 x301 \n",
      "-------------------------\n",
      "5th/7 tdd:\n",
      "TDD1: x000 x002 x100 x101 x300 x301 \n",
      "TDD2: x101 x102 \n",
      "TDD1: x000 x002 x100 x101 x300 x301 \n",
      "TDD2: x101 x102 \n",
      "TDD: x000 x002 x100 x102 x300 x301 \n",
      "-------------------------\n",
      "6th/7 tdd:\n",
      "TDD1: x000 x002 x100 x102 x300 x301 \n",
      "TDD2: x301 x302 \n",
      "TDD1: x000 x002 x100 x102 x300 x301 \n",
      "TDD2: x301 x302 \n",
      "TDD: x000 x002 x100 x102 x300 x302 \n",
      "-------------------------\n",
      "7th/7 tdd:\n",
      "TDD1: x000 x002 x100 x102 x300 x302 \n",
      "TDD2: x102 x103 x200 x200 \n",
      "TDD1: x000 x002 x100 x102 x300 x302 \n",
      "TDD2: x102 x103 x200 x200 \n",
      "TDD: x000 x002 x100 x103 x200 x200 x300 x302 \n"
     ]
    },
    {
     "data": {
      "text/plain": [
       "<TDD.tdd at 0x7f6c1046c0b0>"
      ]
     },
     "execution_count": 25,
     "metadata": {},
     "output_type": "execute_result"
    }
   ],
   "source": [
    "tn.to_tdd(dd)"
   ]
  },
  {
   "cell_type": "code",
   "execution_count": 26,
   "metadata": {},
   "outputs": [
    {
     "data": {
      "text/plain": [
       "TDD.tdd"
      ]
     },
     "execution_count": 26,
     "metadata": {},
     "output_type": "execute_result"
    }
   ],
   "source": [
    "type(temp)"
   ]
  },
  {
   "cell_type": "code",
   "execution_count": 27,
   "metadata": {},
   "outputs": [
    {
     "data": {
      "text/plain": [
       "0"
      ]
     },
     "execution_count": 27,
     "metadata": {},
     "output_type": "execute_result"
    }
   ],
   "source": [
    "temp.index_set[0].idx"
   ]
  },
  {
   "cell_type": "code",
   "execution_count": 28,
   "metadata": {},
   "outputs": [
    {
     "data": {
      "text/plain": [
       "TDD.Edge"
      ]
     },
     "execution_count": 28,
     "metadata": {},
     "output_type": "execute_result"
    }
   ],
   "source": [
    "type(temp.e)"
   ]
  },
  {
   "cell_type": "code",
   "execution_count": 29,
   "metadata": {},
   "outputs": [
    {
     "data": {
      "text/plain": [
       "TDD.mNode"
      ]
     },
     "execution_count": 29,
     "metadata": {},
     "output_type": "execute_result"
    }
   ],
   "source": [
    "type(temp.e.p)"
   ]
  },
  {
   "cell_type": "code",
   "execution_count": 30,
   "metadata": {},
   "outputs": [
    {
     "data": {
      "text/plain": [
       "4"
      ]
     },
     "execution_count": 30,
     "metadata": {},
     "output_type": "execute_result"
    }
   ],
   "source": [
    "len(temp.e.p.e)"
   ]
  },
  {
   "cell_type": "code",
   "execution_count": 31,
   "metadata": {},
   "outputs": [
    {
     "data": {
      "text/plain": [
       "TDD.Edge"
      ]
     },
     "execution_count": 31,
     "metadata": {},
     "output_type": "execute_result"
    }
   ],
   "source": [
    "type(temp.e.p.e[0])"
   ]
  },
  {
   "cell_type": "code",
   "execution_count": 32,
   "metadata": {},
   "outputs": [
    {
     "data": {
      "text/plain": [
       "TDD.mNode"
      ]
     },
     "execution_count": 32,
     "metadata": {},
     "output_type": "execute_result"
    }
   ],
   "source": [
    "type(temp.e.p.e[0].p)"
   ]
  },
  {
   "cell_type": "code",
   "execution_count": 33,
   "metadata": {},
   "outputs": [
    {
     "data": {
      "text/plain": [
       "complex number: 1.000000+0.000000"
      ]
     },
     "execution_count": 33,
     "metadata": {},
     "output_type": "execute_result"
    }
   ],
   "source": [
    "temp.e.p.e[0]"
   ]
  },
  {
   "cell_type": "code",
   "execution_count": 34,
   "metadata": {},
   "outputs": [
    {
     "data": {
      "text/plain": [
       "[complex number: 1.000000+0.000000,\n",
       " complex number: 0.000000+0.000000,\n",
       " complex number: 0.000000+0.000000,\n",
       " complex number: 0.000000+0.000000]"
      ]
     },
     "execution_count": 34,
     "metadata": {},
     "output_type": "execute_result"
    }
   ],
   "source": [
    "temp.e.p.e[0].p.e"
   ]
  },
  {
   "cell_type": "code",
   "execution_count": 35,
   "metadata": {},
   "outputs": [
    {
     "name": "stderr",
     "output_type": "stream",
     "text": [
      "Warning: node 738904, port 3 unrecognized\n",
      "Warning: node 738904, port 2 unrecognized\n",
      "Warning: node 738884, port 2 unrecognized\n",
      "Warning: node 738864, port 3 unrecognized\n"
     ]
    }
   ],
   "source": [
    "TDD.draw(temp.e,\"cnot\")"
   ]
  }
 ],
 "metadata": {
  "kernelspec": {
   "display_name": "Python 3",
   "language": "python",
   "name": "python3"
  },
  "language_info": {
   "codemirror_mode": {
    "name": "ipython",
    "version": 3
   },
   "file_extension": ".py",
   "mimetype": "text/x-python",
   "name": "python",
   "nbconvert_exporter": "python",
   "pygments_lexer": "ipython3",
   "version": "3.10.12"
  }
 },
 "nbformat": 4,
 "nbformat_minor": 2
}
