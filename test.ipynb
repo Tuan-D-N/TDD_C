{
 "cells": [
  {
   "cell_type": "code",
   "execution_count": 1,
   "metadata": {},
   "outputs": [],
   "source": [
    "import sys\n",
    "import os\n",
    "sys.path.append(\"/home/gaodc/TDD_C/TDD\")"
   ]
  },
  {
   "cell_type": "code",
   "execution_count": 2,
   "metadata": {},
   "outputs": [],
   "source": [
    "import numpy as np\n",
    "from TDD import Ini_TDD,Clear_TDD,cont,add,TDD\n",
    "from TDD_Q import reshape, cir_2_tn, get_real_qubit_num\n",
    "from TN import Index,Tensor,TensorNetwork\n",
    "import Gate as G\n",
    "from functools import reduce\n",
    "from qiskit import QuantumCircuit, BasicAer, transpile"
   ]
  },
  {
   "cell_type": "code",
   "execution_count": 3,
   "metadata": {},
   "outputs": [
    {
     "data": {
      "text/plain": [
       "<qiskit.circuit.instructionset.InstructionSet at 0x7fb1e4a78fd0>"
      ]
     },
     "execution_count": 3,
     "metadata": {},
     "output_type": "execute_result"
    }
   ],
   "source": [
    "qc = QuantumCircuit(4)\n",
    "qc.cx(1,2)"
   ]
  },
  {
   "cell_type": "code",
   "execution_count": 4,
   "metadata": {},
   "outputs": [
    {
     "data": {
      "text/plain": [
       "2"
      ]
     },
     "execution_count": 4,
     "metadata": {},
     "output_type": "execute_result"
    }
   ],
   "source": [
    "tn, all_indexs = cir_2_tn(qc)\n",
    "n = get_real_qubit_num(qc)\n",
    "len(tn.tensors)"
   ]
  },
  {
   "cell_type": "markdown",
   "metadata": {},
   "source": [
    "# write tn.tensors to tensor.csv"
   ]
  },
  {
   "cell_type": "code",
   "execution_count": 5,
   "metadata": {},
   "outputs": [],
   "source": [
    "import csv\n",
    "\n",
    "with open('tensor.csv', 'w', newline='') as csvfile:\n",
    "    writer = csv.writer(csvfile)\n",
    "    writer.writerow([\"tensor.data\",\"tensor.data.shape\",\"tensor.index_set\"])\n",
    "    for ts in tn.tensors:\n",
    "        data = np.array2string(ts.data,formatter={'all': lambda x: f'{x.real:.1f}{x.imag:+.1f}j' if isinstance(x, complex) else f'{x:.1f}'}).replace(\"\\n\", \" \")\n",
    "        shape = \" \".join(str(i) for i in ts.data.shape)\n",
    "        index_temp = [[i.key,i.idx] for i in ts.index_set]\n",
    "        index_str = \"\"\n",
    "        for i in index_temp:\n",
    "            index_str = index_str + i[0] +\":\"+ str(i[1]) + \" \"\n",
    "        writer.writerow([data,shape,index_str.strip()])"
   ]
  },
  {
   "cell_type": "code",
   "execution_count": 6,
   "metadata": {},
   "outputs": [],
   "source": [
    "import csv\n",
    "with open('order.csv', 'w', newline='') as csvfile:\n",
    "    writer = csv.writer(csvfile)\n",
    "    for index in all_indexs:\n",
    "        writer.writerow([index])"
   ]
  },
  {
   "cell_type": "code",
   "execution_count": 7,
   "metadata": {},
   "outputs": [
    {
     "name": "stdout",
     "output_type": "stream",
     "text": [
      "Je suis un TensorNetwork.\n",
      "et j'ai 2 tenseur\n",
      "order before xarray_2_edge: \n",
      "0 1 2 3 \n",
      "index set before xarray_2_edge: \n",
      "index idx 0 index key x1 index order 10\n",
      "index idx 0 index key y1 index order 11\n",
      "index idx 0 index key x2 index order 12\n",
      "index idx 0 index key y2 index order 13\n",
      "order:\n",
      "0, 1, 2, 3, \n",
      "order:\n",
      "0, 1, 2, -1, \n",
      "order:\n",
      "0, 1, -1, -1, \n",
      "order:\n",
      "0, -1, -1, -1, \n",
      "order:\n",
      "-1, -1, -1, -1, \n",
      "order:\n",
      "-1, -1, -1, -1, \n",
      "order:\n",
      "0, -1, -1, -1, \n",
      "order:\n",
      "-1, -1, -1, -1, \n",
      "order:\n",
      "-1, -1, -1, -1, \n",
      "order:\n",
      "0, 1, -1, -1, \n",
      "order:\n",
      "0, -1, -1, -1, \n",
      "order:\n",
      "-1, -1, -1, -1, \n",
      "order:\n",
      "-1, -1, -1, -1, \n",
      "order:\n",
      "0, -1, -1, -1, \n",
      "order:\n",
      "-1, -1, -1, -1, \n",
      "order:\n",
      "-1, -1, -1, -1, \n",
      "order:\n",
      "0, 1, 2, -1, \n",
      "order:\n",
      "0, 1, -1, -1, \n",
      "order:\n",
      "0, -1, -1, -1, \n",
      "order:\n",
      "-1, -1, -1, -1, \n",
      "order:\n",
      "-1, -1, -1, -1, \n",
      "order:\n",
      "0, -1, -1, -1, \n",
      "order:\n",
      "-1, -1, -1, -1, \n",
      "order:\n",
      "-1, -1, -1, -1, \n",
      "order:\n",
      "0, 1, -1, -1, \n",
      "order:\n",
      "0, -1, -1, -1, \n",
      "order:\n",
      "-1, -1, -1, -1, \n",
      "order:\n",
      "-1, -1, -1, -1, \n",
      "order:\n",
      "0, -1, -1, -1, \n",
      "order:\n",
      "-1, -1, -1, -1, \n",
      "order:\n",
      "-1, -1, -1, -1, \n",
      "finish xarray_2_edge\n",
      "index set after xarray_2_edge: \n",
      "index idx 0 index key x1 index order 10\n",
      "index idx 0 index key y1 index order 11\n",
      "index idx 0 index key x2 index order 12\n",
      "index idx 0 index key y2 index order 13\n",
      "finish index_set initial\n",
      "TDD index set:\n",
      "index key: x1\tindex idx: 0\n",
      "index key: y1\tindex idx: 0\n",
      "index key: x2\tindex idx: 0\n",
      "index key: y2\tindex idx: 0\n",
      "TDD index:\n",
      "key: x1\n",
      "key: y1\n",
      "key: x2\n",
      "key: y2\n",
      "-------------------------\n",
      "2th/2 tdd:\n",
      "order before xarray_2_edge: \n",
      "0 1 \n",
      "index set before xarray_2_edge: \n",
      "index idx 0 index key x0 index order 14\n",
      "index idx 0 index key y0 index order 15\n",
      "order:\n",
      "0, 1, \n",
      "order:\n",
      "0, -1, \n",
      "order:\n",
      "-1, -1, \n",
      "order:\n",
      "-1, -1, \n",
      "order:\n",
      "0, -1, \n",
      "order:\n",
      "-1, -1, \n",
      "order:\n",
      "-1, -1, \n",
      "finish xarray_2_edge\n",
      "index set after xarray_2_edge: \n",
      "index idx 0 index key x0 index order 14\n",
      "index idx 0 index key y0 index order 15\n",
      "finish index_set initial\n",
      "TDD index set:\n",
      "index key: x0\tindex idx: 0\n",
      "index key: y0\tindex idx: 0\n",
      "TDD index:\n",
      "key: x0\n",
      "key: y0\n",
      "\n",
      "\n"
     ]
    }
   ],
   "source": [
    "import subprocess\n",
    "\n",
    "# Define the path to your compiled C++ executable\n",
    "cpp_executable = \"./build/TDD_C \"\n",
    "\n",
    "# Define the input data as a string\n",
    "tesnosr_data = \"tensor.csv \"\n",
    "order_data = \" order.csv\"\n",
    "# Run the C++ program and pass input data\n",
    "process = subprocess.Popen(cpp_executable+tesnosr_data+str(n)+order_data, stdin=subprocess.PIPE, stdout=subprocess.PIPE, stderr=subprocess.PIPE, shell=True)\n",
    "\n",
    "stdout, stderr = process.communicate()\n",
    "\n",
    "print(stdout.decode('utf-8'))\n",
    "print(stderr.decode('utf-8'))"
   ]
  }
 ],
 "metadata": {
  "kernelspec": {
   "display_name": "Python 3",
   "language": "python",
   "name": "python3"
  },
  "language_info": {
   "codemirror_mode": {
    "name": "ipython",
    "version": 3
   },
   "file_extension": ".py",
   "mimetype": "text/x-python",
   "name": "python",
   "nbconvert_exporter": "python",
   "pygments_lexer": "ipython3",
   "version": "3.10.12"
  }
 },
 "nbformat": 4,
 "nbformat_minor": 2
}
